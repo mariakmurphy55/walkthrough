{
 "cells": [
  {
   "cell_type": "markdown",
   "id": "e64a24c1-251a-40a0-9914-863d6bac15c7",
   "metadata": {},
   "source": [
    "## Walkthrough Sample Notebook"
   ]
  },
  {
   "cell_type": "markdown",
   "id": "b711faea-2a01-42cb-a94a-b6044e01fb8a",
   "metadata": {},
   "source": [
    "Here is how I calculate '1+1':"
   ]
  },
  {
   "cell_type": "code",
   "execution_count": 8,
   "id": "7abdf5a2-515e-4367-b4ec-54d393e7dc42",
   "metadata": {},
   "outputs": [
    {
     "data": {
      "text/plain": [
       "2"
      ]
     },
     "execution_count": 8,
     "metadata": {},
     "output_type": "execute_result"
    }
   ],
   "source": [
    "1+1"
   ]
  },
  {
   "cell_type": "code",
   "execution_count": 9,
   "id": "37d8086a-fc1b-452b-9373-1e879e990634",
   "metadata": {},
   "outputs": [],
   "source": [
    "from numpy import *"
   ]
  },
  {
   "cell_type": "markdown",
   "id": "f20182b1-5f6a-4761-ae40-7fe04d12115d",
   "metadata": {},
   "source": [
    "Here is how I calculate 'sin':"
   ]
  },
  {
   "cell_type": "code",
   "execution_count": null,
   "id": "32221af6-183e-4d1a-8dd7-d94388d9c848",
   "metadata": {},
   "outputs": [],
   "source": []
  }
 ],
 "metadata": {
  "kernelspec": {
   "display_name": "Python 3 (ipykernel)",
   "language": "python",
   "name": "python3"
  },
  "language_info": {
   "codemirror_mode": {
    "name": "ipython",
    "version": 3
   },
   "file_extension": ".py",
   "mimetype": "text/x-python",
   "name": "python",
   "nbconvert_exporter": "python",
   "pygments_lexer": "ipython3",
   "version": "3.10.8"
  }
 },
 "nbformat": 4,
 "nbformat_minor": 5
}
